{
 "cells": [
  {
   "cell_type": "markdown",
   "metadata": {},
   "source": [
    "# Housing value estimation model training\n",
    "\n",
    "Let's train a simple regressor using Scikit-Learn, and convert the pipeline to ONNX format."
   ]
  },
  {
   "cell_type": "code",
   "execution_count": null,
   "metadata": {},
   "outputs": [],
   "source": [
    "from pathlib import Path\n",
    "\n",
    "import numpy as np\n",
    "import onnxruntime as ort\n",
    "import pandas as pd\n",
    "import skl2onnx\n",
    "from sklearn.linear_model import LinearRegression\n",
    "from sklearn.metrics import root_mean_squared_error\n",
    "from sklearn.model_selection import train_test_split\n",
    "from sklearn.pipeline import Pipeline\n",
    "from sklearn.preprocessing import StandardScaler"
   ]
  },
  {
   "cell_type": "markdown",
   "metadata": {},
   "source": [
    "Load the french housing dataset for Isère department in 2022:"
   ]
  },
  {
   "cell_type": "code",
   "execution_count": null,
   "metadata": {},
   "outputs": [],
   "source": [
    "dvf_38 = pd.read_csv(\n",
    "    \"https://files.data.gouv.fr/geo-dvf/latest/csv/2022/departements/38.csv.gz\"\n",
    ")\n",
    "dvf_38.info()"
   ]
  },
  {
   "cell_type": "markdown",
   "metadata": {},
   "source": [
    "Prepare the dataset to keep only sales of apartments in Grenoble:"
   ]
  },
  {
   "cell_type": "code",
   "execution_count": null,
   "metadata": {},
   "outputs": [],
   "source": [
    "dataset = dvf_38.copy()\n",
    "dataset = dataset[\n",
    "    (dataset.nature_mutation == \"Vente\")\n",
    "    & (dataset.type_local == \"Appartement\")\n",
    "    & (dataset.nom_commune == \"Grenoble\")\n",
    "]\n",
    "dataset = dataset[\n",
    "    [\n",
    "        \"surface_reelle_bati\",\n",
    "        \"nombre_pieces_principales\",\n",
    "        \"latitude\",\n",
    "        \"longitude\",\n",
    "        \"valeur_fonciere\",\n",
    "    ]\n",
    "]\n",
    "dataset = dataset.rename(\n",
    "    columns={\n",
    "        \"surface_reelle_bati\": \"area\",\n",
    "        \"nombre_pieces_principales\": \"rooms\",\n",
    "        \"valeur_fonciere\": \"value\",\n",
    "    }\n",
    ")\n",
    "dataset = dataset.dropna()\n",
    "dataset = dataset.reset_index()\n",
    "dataset"
   ]
  },
  {
   "cell_type": "markdown",
   "metadata": {},
   "source": [
    "Split the dataset for train and test sets:"
   ]
  },
  {
   "cell_type": "code",
   "execution_count": null,
   "metadata": {},
   "outputs": [],
   "source": [
    "X = dataset[\n",
    "    [\"area\", \"rooms\", \"latitude\", \"longitude\"]\n",
    "]\n",
    "y = dataset[\"value\"]\n",
    "X_train, X_test, y_train, y_test = train_test_split(X, y, test_size=0.25)"
   ]
  },
  {
   "cell_type": "markdown",
   "metadata": {},
   "source": [
    "Train a Scikit-Learn pipeline, including the normalization step and a regression model:"
   ]
  },
  {
   "cell_type": "code",
   "execution_count": null,
   "metadata": {},
   "outputs": [],
   "source": [
    "pipeline = Pipeline(\n",
    "    [\n",
    "        (\"scaler\", StandardScaler()),\n",
    "        (\"regressor\", LinearRegression()),\n",
    "    ]\n",
    ")\n",
    "pipeline.fit(X_train, y_train)"
   ]
  },
  {
   "cell_type": "markdown",
   "metadata": {},
   "source": [
    "Score the model (RMSE) on the test set:"
   ]
  },
  {
   "cell_type": "code",
   "execution_count": null,
   "metadata": {},
   "outputs": [],
   "source": [
    "root_mean_squared_error(y_test, pipeline.predict(X_test))"
   ]
  },
  {
   "cell_type": "markdown",
   "metadata": {},
   "source": [
    "Try to predict the value of an apartment (50m2, 3 rooms, Victor Hugo place in Grenoble):"
   ]
  },
  {
   "cell_type": "code",
   "execution_count": null,
   "metadata": {},
   "outputs": [],
   "source": [
    "pipeline.predict([[50, 3, 45.1893525, 5.7216074]])"
   ]
  },
  {
   "cell_type": "markdown",
   "metadata": {},
   "source": [
    "Export the model to ONNX format using `skl2onnx`:"
   ]
  },
  {
   "cell_type": "code",
   "execution_count": null,
   "metadata": {},
   "outputs": [],
   "source": [
    "onnx_model = skl2onnx.to_onnx(pipeline, X_train[:1].astype(np.float32))\n",
    "onnx_model_path = Path() / \"model.onnx\"\n",
    "onnx_model_path.write_bytes(onnx_model.SerializeToString())"
   ]
  },
  {
   "cell_type": "markdown",
   "metadata": {},
   "source": [
    "Load the ONNX model and run an inference on the sample data:"
   ]
  },
  {
   "cell_type": "code",
   "execution_count": null,
   "metadata": {},
   "outputs": [],
   "source": [
    "session = ort.InferenceSession(onnx_model_path, providers=ort.get_available_providers())\n",
    "session.run(\n",
    "    None,\n",
    "    {\n",
    "        \"area\": [[50.0]],\n",
    "        \"rooms\": [[3.0]],\n",
    "        \"latitude\": [[45.1893525]],\n",
    "        \"longitude\": [[5.7216074]],\n",
    "    },\n",
    ")"
   ]
  }
 ],
 "metadata": {
  "kernelspec": {
   "display_name": "2024-02-23-ml-models-web-hMvmHHXs",
   "language": "python",
   "name": "python3"
  },
  "language_info": {
   "codemirror_mode": {
    "name": "ipython",
    "version": 3
   },
   "file_extension": ".py",
   "mimetype": "text/x-python",
   "name": "python",
   "nbconvert_exporter": "python",
   "pygments_lexer": "ipython3",
   "version": "3.11.6"
  }
 },
 "nbformat": 4,
 "nbformat_minor": 2
}

{
 "cells": [
  {
   "cell_type": "markdown",
   "metadata": {},
   "source": [
    "# Image classification model training\n",
    "\n",
    "Let's build a deep learning image classification model using Keras / Tensorflow, and convert it to ONNX format."
   ]
  },
  {
   "cell_type": "code",
   "execution_count": null,
   "metadata": {},
   "outputs": [],
   "source": [
    "import json\n",
    "from pathlib import Path\n",
    "\n",
    "import keras\n",
    "import numpy as np\n",
    "import onnx\n",
    "import onnxruntime as ort\n",
    "import requests\n",
    "import tf2onnx"
   ]
  },
  {
   "cell_type": "markdown",
   "metadata": {},
   "source": [
    "Load a ResNet50 image classification model (based on the ImageNet specifications):"
   ]
  },
  {
   "cell_type": "code",
   "execution_count": null,
   "metadata": {},
   "outputs": [],
   "source": [
    "model = keras.applications.resnet50.ResNet50()"
   ]
  },
  {
   "cell_type": "markdown",
   "metadata": {},
   "source": [
    "Load an example image tensor of shape (1, 224, 224, 3):"
   ]
  },
  {
   "cell_type": "code",
   "execution_count": null,
   "metadata": {},
   "outputs": [],
   "source": [
    "img_path = \"cat.jpg\"\n",
    "img = keras.utils.load_img(img_path, target_size=(224, 224))\n",
    "x = keras.utils.img_to_array(img)\n",
    "x = np.expand_dims(x, axis=0)\n",
    "img"
   ]
  },
  {
   "cell_type": "markdown",
   "metadata": {},
   "source": [
    "Try the model on the sample image and decode the top 3 predicted classes:"
   ]
  },
  {
   "cell_type": "code",
   "execution_count": null,
   "metadata": {},
   "outputs": [],
   "source": [
    "preds = model.predict(x)\n",
    "keras.applications.resnet50.decode_predictions(preds, top=3)"
   ]
  },
  {
   "cell_type": "markdown",
   "metadata": {},
   "source": [
    "Extract the ImageNet class index JSON file:"
   ]
  },
  {
   "cell_type": "code",
   "execution_count": null,
   "metadata": {},
   "outputs": [],
   "source": [
    "rv = requests.get(\n",
    "    \"https://storage.googleapis.com/download.tensorflow.org/data/imagenet_class_index.json\"\n",
    ")\n",
    "imagenet_class_index = rv.json()\n",
    "(Path() / \"imagenet_class_index.json\").write_text(json.dumps(imagenet_class_index))"
   ]
  },
  {
   "cell_type": "markdown",
   "metadata": {},
   "source": [
    "Export the model to ONNX format using `tf2onnx`:"
   ]
  },
  {
   "cell_type": "code",
   "execution_count": null,
   "metadata": {},
   "outputs": [],
   "source": [
    "onnx_model, _ = tf2onnx.convert.from_keras(model)\n",
    "onnx_model_path = Path() / \"model.onnx\"\n",
    "onnx.save(onnx_model, \"model.onnx\")"
   ]
  },
  {
   "cell_type": "markdown",
   "metadata": {},
   "source": [
    "Load the ONNX model, run an inference on the sample image and compute the predicted class name:"
   ]
  },
  {
   "cell_type": "code",
   "execution_count": null,
   "metadata": {},
   "outputs": [],
   "source": [
    "session = ort.InferenceSession(onnx_model_path, providers=ort.get_available_providers())\n",
    "output = session.run(None, {\"input_1\": x})[0]\n",
    "imagenet_class_index[str(np.argmax(output[0]))][1]"
   ]
  }
 ],
 "metadata": {
  "kernelspec": {
   "display_name": "2024-02-23-ml-models-web-hMvmHHXs",
   "language": "python",
   "name": "python3"
  },
  "language_info": {
   "codemirror_mode": {
    "name": "ipython",
    "version": 3
   },
   "file_extension": ".py",
   "mimetype": "text/x-python",
   "name": "python",
   "nbconvert_exporter": "python",
   "pygments_lexer": "ipython3",
   "version": "3.11.6"
  }
 },
 "nbformat": 4,
 "nbformat_minor": 2
}
